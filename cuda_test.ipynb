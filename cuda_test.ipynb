{
 "cells": [
  {
   "cell_type": "code",
   "execution_count": 5,
   "metadata": {},
   "outputs": [],
   "source": [
    "import time\n",
    "\n",
    "import torch as to\n"
   ]
  },
  {
   "cell_type": "code",
   "execution_count": null,
   "metadata": {},
   "outputs": [],
   "source": [
    "# device = \"cuda\" if to.cuda.is_available() else \"cpu\"\n",
    "# device"
   ]
  },
  {
   "cell_type": "code",
   "execution_count": null,
   "metadata": {},
   "outputs": [
    {
     "name": "stdout",
     "output_type": "stream",
     "text": [
      "t_cpu = 1.35923 seconds\n",
      "t_gpu = 0.12296 seconds\n"
     ]
    }
   ],
   "source": [
    "class Device:\n",
    "    def __init__(self, name: str):\n",
    "        self.name = name\n",
    "\n",
    "\n",
    "def device_benchmark():\n",
    "    device_name = \"cuda\" if to.cuda.is_available() else \"cpu\"\n",
    "\n",
    "    device = Device(name=device_name)\n",
    "\n",
    "    def measure_time(device):\n",
    "        match device:\n",
    "            case \"cuda\":\n",
    "                # gpu computation timing\n",
    "                to.cuda.synchronize()\n",
    "                start_time = to.cuda.Event(enable_timing=True)\n",
    "                end_time = to.cuda.Event(enable_timing=True)\n",
    "\n",
    "                start_time.record()\n",
    "                result = (\n",
    "                    to.rand(500, 500, 500, device=\"cuda\")\n",
    "                    @ to.rand(500, 500, 500, device=\"cuda\")\n",
    "                ).sum()\n",
    "                end_time.record()\n",
    "                to.cuda.synchronize()\n",
    "\n",
    "                return start_time.elapsed_time(end_time) / 1000  # convert to seconds\n",
    "                # print(f\"t_gpu = {gpu_time:.5f} seconds\")\n",
    "\n",
    "                # print(f\"t_gpu = {(to.rand(500, 500, 500).cuda()@to.rand(500, 500, 500).cuda())}\")\n",
    "            case \"cpu\":\n",
    "                # cpu computation timing\n",
    "                start_time = time.time()\n",
    "                result = (\n",
    "                    to.rand(500, 500, 500, device=\"cpu\")\n",
    "                    @ to.rand(500, 500, 500, device=\"cpu\")\n",
    "                ).sum()\n",
    "\n",
    "                return time.time() - start_time\n",
    "                # print(f\"t_cpu = {cpu_time:5f} seconds\")\n",
    "                # print(f\"t_cpu = {(to.rand(500, 500, 500, device = args['cpu'])@to.rand(500, 500, 500, device = args['cpu'])).sum()}\")\n",
    "            # case _:\n",
    "            #     print(\"Unsupported device detected.\")\n",
    "\n",
    "    # Match-case logic for device\n",
    "    match device.name:\n",
    "        case \"cuda\":\n",
    "            t_cpu = measure_time(\"cpu\")\n",
    "            t_gpu = measure_time(\"cuda\")\n",
    "            print(f\"t_cpu = {t_cpu:.5f} seconds\")\n",
    "            print(f\"t_gpu = {t_gpu:.5f} seconds\")\n",
    "            return t_cpu, t_gpu\n",
    "        case \"cpu\":\n",
    "            t_cpu = measure_time(\"cpu\")\n",
    "            print(f\"t_cpu = {t_cpu:.5f} seconds\")\n",
    "            print(\"t_gpu = None (GPU not available)\")\n",
    "            return t_cpu, None\n",
    "        case _:\n",
    "            print(\"Unsupported device detected.\")\n",
    "            return None, None\n",
    "\n",
    "\n",
    "t_cpu, t_gpu = device_benchmark()\n",
    "# device_benchmark()\n",
    "\n",
    "# match device:\n",
    "#     case \"cuda\":\n",
    "#         device_type = \"gpu\"\n",
    "#         device_name = to.cuda.get_device_name()\n",
    "#         # t_gpu = to.rand(500, 500, 500).cuda()\n",
    "#     case \"cpu\" | _:\n",
    "#         t_cpu = to.rand(500, 500, 500)\n",
    "# t_cpu = to.rand(500, 500, 500)\n",
    "# t_gpu = [if to.cuda.get_device_name(i) for i in range(to.cuda.device_count()) == True: then t_]\n"
   ]
  },
  {
   "cell_type": "code",
   "execution_count": null,
   "metadata": {},
   "outputs": [],
   "source": [
    "# t_gpu = to.rand(500, 500, 500).cuda()\n",
    "# %timeit t_gpu @ t_gpu"
   ]
  },
  {
   "cell_type": "code",
   "execution_count": null,
   "metadata": {},
   "outputs": [],
   "source": []
  }
 ],
 "metadata": {
  "kernelspec": {
   "display_name": "Py 3.12.5 (base)",
   "language": "python",
   "name": "py3125_base"
  },
  "language_info": {
   "codemirror_mode": {
    "name": "ipython",
    "version": 3
   },
   "file_extension": ".py",
   "mimetype": "text/x-python",
   "name": "python",
   "nbconvert_exporter": "python",
   "pygments_lexer": "ipython3",
   "version": "3.12.5"
  }
 },
 "nbformat": 4,
 "nbformat_minor": 2
}
